{
 "cells": [
  {
   "cell_type": "markdown",
   "metadata": {},
   "source": [
    "## Caserta Google Cloud Challenge\n",
    "\n",
    "This Caserta challenge utilizes multiple components of the Google Cloud."
   ]
  },
  {
   "cell_type": "code",
   "execution_count": 99,
   "metadata": {},
   "outputs": [],
   "source": [
    "# Import necessary libraries\n",
    "import json\n",
    "import requests\n",
    "import pandas as pd\n",
    "from pandas.io.json import json_normalize\n",
    "import google.datalab.bigquery as bq"
   ]
  },
  {
   "attachments": {},
   "cell_type": "markdown",
   "metadata": {},
   "source": [
    "Below is the data ingestion script to pull cryptocurrency data from the CoinMarketCap API."
   ]
  },
  {
   "cell_type": "code",
   "execution_count": 34,
   "metadata": {},
   "outputs": [
    {
     "name": "stdout",
     "output_type": "stream",
     "text": [
      "Enter the API key: 3c962df1-ffe2-4c7b-bf70-9b2d31a3341e\n",
      "API call was successful.\n",
      "Complete: Script ran successfully.\n"
     ]
    }
   ],
   "source": [
    "def get_crypto_data(header_name, header_key):\n",
    "    \"\"\"Extract all of the existing crypto currency data into a JSON file.\"\"\"\n",
    "    # Set header information\n",
    "    header = {header_name: header_key}\n",
    "\n",
    "    # Get API results from CoinMarketCap\n",
    "    results = requests.get(\"https://pro-api.coinmarketcap.com/v1/cryptocurrency/listings/latest?start=1&limit=5000&convert=USD\", headers=header)\n",
    "    \n",
    "    # A status code return of 200 is successful\n",
    "    if results.status_code == 200:\n",
    "        print(\"API call was successful.\")\n",
    "        return json.loads(results.text)\n",
    "    else:\n",
    "        print(\"Could not extract data from the API. Status code: {}.\".format(r.status_code))\n",
    "\n",
    "if __name__ == \"__main__\":\n",
    "    # Set the header_name and header_key\n",
    "    header_name = \"X-CMC_PRO_API_KEY\"\n",
    "    header_key = input(\"Enter the API key: \")\n",
    "\n",
    "    # Get crypto currency data in JSON\n",
    "    crypto_json = get_crypto_data(header_name, header_key)\n",
    "    \n",
    "    # Flatten the resulting JSON data\n",
    "    df = json_normalize(crypto_json['data'])\n",
    "    \n",
    "    # Write the JSON data to a CSV file \n",
    "    df.to_csv(\"./crypto_data.csv\")\n",
    "\n",
    "    print(\"Complete: Script ran successfully.\")"
   ]
  },
  {
   "cell_type": "markdown",
   "metadata": {},
   "source": [
    "#### After running the API call above, I saved the CSV file onto my local machine and ran the following two Python scripts.\n",
    "* 1_upload_file_to_gcs.py - Create bucket and load the files to GCS.\n",
    "* 2_move_file_to_bigquery.py - Loads the CSV file into a BigQuery table.\n",
    "\n",
    "After the data has been loaded into the BigQuery table, the following queries can be run."
   ]
  },
  {
   "cell_type": "markdown",
   "metadata": {},
   "source": [
    "**How many coins have a USD price greater than $8,000?**"
   ]
  },
  {
   "cell_type": "code",
   "execution_count": 50,
   "metadata": {},
   "outputs": [],
   "source": [
    "%%bq query --name coins_greater_than_8000\n",
    "SELECT count(*) as coin_count\n",
    "FROM `dennis-caserta-project.crypto_dataset.crypto_data`\n",
    "WHERE quote_USD_price > 8000"
   ]
  },
  {
   "cell_type": "code",
   "execution_count": 51,
   "metadata": {},
   "outputs": [
    {
     "data": {
      "text/html": [
       "\n",
       "    <div class=\"bqtv\" id=\"24_154440856679\"><table><tr><th>coin_count</th></tr><tr><td>3</td></tr></table></div>\n",
       "    <br />(rows: 1, time: 0.4s, cached, job: job_Y1Q9qSVsGY2JcX968OgwiKnaNSJG)<br />\n",
       "    <script src=\"/static/components/requirejs/require.js\"></script>\n",
       "    <script>\n",
       "      require.config({\n",
       "        paths: {\n",
       "          base: '/static/base',\n",
       "          d3: '//cdnjs.cloudflare.com/ajax/libs/d3/3.4.13/d3',\n",
       "          plotly: 'https://cdn.plot.ly/plotly-1.5.1.min.js?noext',\n",
       "          jquery: '//ajax.googleapis.com/ajax/libs/jquery/2.0.0/jquery.min'\n",
       "        },\n",
       "        map: {\n",
       "          '*': {\n",
       "            datalab: 'nbextensions/gcpdatalab'\n",
       "          }\n",
       "        },\n",
       "        shim: {\n",
       "          plotly: {\n",
       "            deps: ['d3', 'jquery'],\n",
       "            exports: 'plotly'\n",
       "          }\n",
       "        }\n",
       "      });\n",
       "\n",
       "      require(['datalab/charting', 'datalab/element!24_154440856679', 'base/js/events',\n",
       "          'datalab/style!/nbextensions/gcpdatalab/charting.css'],\n",
       "        function(charts, dom, events) {\n",
       "          charts.render('gcharts', dom, events, 'table', [], {\"rows\": [{\"c\": [{\"v\": 3}]}], \"cols\": [{\"label\": \"coin_count\", \"type\": \"number\", \"id\": \"coin_count\"}]},\n",
       "            {\n",
       "              pageSize: 25,\n",
       "              cssClassNames:  {\n",
       "                tableRow: 'gchart-table-row',\n",
       "                headerRow: 'gchart-table-headerrow',\n",
       "                oddTableRow: 'gchart-table-oddrow',\n",
       "                selectedTableRow: 'gchart-table-selectedrow',\n",
       "                hoverTableRow: 'gchart-table-hoverrow',\n",
       "                tableCell: 'gchart-table-cell',\n",
       "                headerCell: 'gchart-table-headercell',\n",
       "                rowNumberCell: 'gchart-table-rownumcell'\n",
       "              }\n",
       "            },\n",
       "            {source_index: 0, fields: 'coin_count'},\n",
       "            0,\n",
       "            1);\n",
       "        }\n",
       "      );\n",
       "    </script>\n",
       "  "
      ],
      "text/plain": [
       "QueryResultsTable job_Y1Q9qSVsGY2JcX968OgwiKnaNSJG"
      ]
     },
     "execution_count": 51,
     "metadata": {},
     "output_type": "execute_result"
    }
   ],
   "source": [
    "coins_greater_than_8000.execute().result()"
   ]
  },
  {
   "cell_type": "markdown",
   "metadata": {},
   "source": [
    "**What is the total market cap of the top 100 cryptocurrencies (in USD)?**"
   ]
  },
  {
   "cell_type": "code",
   "execution_count": 3,
   "metadata": {},
   "outputs": [],
   "source": [
    "%%bq query --name market_cap\n",
    "SELECT sum(quote_USD_market_cap) as total_market_cap\n",
    "FROM `dennis-caserta-project.crypto_dataset.crypto_data`\n",
    "WHERE cmc_rank <= 100"
   ]
  },
  {
   "cell_type": "code",
   "execution_count": 2,
   "metadata": {},
   "outputs": [
    {
     "data": {
      "text/html": [
       "\n",
       "    <div class=\"bqtv\" id=\"1_154441953697\"><table><tr><th>total_market_cap</th></tr><tr><td>110838017761.02834</td></tr></table></div>\n",
       "    <br />(rows: 1, time: 0.5s,    16KB processed, job: job_i-UM_QuVk1HoKGaUonkFkVNaEKPl)<br />\n",
       "    <script src=\"/static/components/requirejs/require.js\"></script>\n",
       "    <script>\n",
       "      require.config({\n",
       "        paths: {\n",
       "          base: '/static/base',\n",
       "          d3: '//cdnjs.cloudflare.com/ajax/libs/d3/3.4.13/d3',\n",
       "          plotly: 'https://cdn.plot.ly/plotly-1.5.1.min.js?noext',\n",
       "          jquery: '//ajax.googleapis.com/ajax/libs/jquery/2.0.0/jquery.min'\n",
       "        },\n",
       "        map: {\n",
       "          '*': {\n",
       "            datalab: 'nbextensions/gcpdatalab'\n",
       "          }\n",
       "        },\n",
       "        shim: {\n",
       "          plotly: {\n",
       "            deps: ['d3', 'jquery'],\n",
       "            exports: 'plotly'\n",
       "          }\n",
       "        }\n",
       "      });\n",
       "\n",
       "      require(['datalab/charting', 'datalab/element!1_154441953697', 'base/js/events',\n",
       "          'datalab/style!/nbextensions/gcpdatalab/charting.css'],\n",
       "        function(charts, dom, events) {\n",
       "          charts.render('gcharts', dom, events, 'table', [], {\"cols\": [{\"type\": \"number\", \"label\": \"total_market_cap\", \"id\": \"total_market_cap\"}], \"rows\": [{\"c\": [{\"v\": 110838017761.02834}]}]},\n",
       "            {\n",
       "              pageSize: 25,\n",
       "              cssClassNames:  {\n",
       "                tableRow: 'gchart-table-row',\n",
       "                headerRow: 'gchart-table-headerrow',\n",
       "                oddTableRow: 'gchart-table-oddrow',\n",
       "                selectedTableRow: 'gchart-table-selectedrow',\n",
       "                hoverTableRow: 'gchart-table-hoverrow',\n",
       "                tableCell: 'gchart-table-cell',\n",
       "                headerCell: 'gchart-table-headercell',\n",
       "                rowNumberCell: 'gchart-table-rownumcell'\n",
       "              }\n",
       "            },\n",
       "            {source_index: 0, fields: 'total_market_cap'},\n",
       "            0,\n",
       "            1);\n",
       "        }\n",
       "      );\n",
       "    </script>\n",
       "  "
      ],
      "text/plain": [
       "QueryResultsTable job_i-UM_QuVk1HoKGaUonkFkVNaEKPl"
      ]
     },
     "execution_count": 2,
     "metadata": {},
     "output_type": "execute_result"
    }
   ],
   "source": [
    "market_cap.execute().result()"
   ]
  },
  {
   "cell_type": "markdown",
   "metadata": {},
   "source": [
    "**Which coins have an available supply less than 5M?**"
   ]
  },
  {
   "cell_type": "code",
   "execution_count": 54,
   "metadata": {},
   "outputs": [],
   "source": [
    "%%bq query --name available_supply\n",
    "SELECT name\n",
    "FROM `dennis-caserta-project.crypto_dataset.crypto_data`\n",
    "WHERE circulating_supply < 5000000"
   ]
  },
  {
   "cell_type": "code",
   "execution_count": 55,
   "metadata": {},
   "outputs": [
    {
     "data": {
      "text/html": [
       "\n",
       "    <div class=\"bqtv\" id=\"26_154440857032\"><table><tr><th>name</th></tr><tr><td>HUZU</td></tr><tr><td>BZLCOIN</td></tr><tr><td>GoHelpFund</td></tr><tr><td>MODEL-X-coin</td></tr><tr><td>Unobtanium</td></tr><tr><td>Counterparty</td></tr><tr><td>Litecoin Plus</td></tr><tr><td>Dreamcoin</td></tr><tr><td>Solaris</td></tr><tr><td>Hexx</td></tr><tr><td>Fantasy Cash</td></tr><tr><td>Bitcoin 21</td></tr><tr><td>Eternity</td></tr><tr><td>iBank</td></tr><tr><td>Veltor</td></tr><tr><td>Magnum</td></tr><tr><td>Argus</td></tr><tr><td>Altcoin</td></tr><tr><td>Chronobank</td></tr><tr><td>ICO OpenLedger</td></tr><tr><td>Peerplays</td></tr><tr><td>Denarius</td></tr><tr><td>SpeedCash</td></tr><tr><td>Iconic</td></tr><tr><td>APX</td></tr></table></div>\n",
       "    <br />(rows: 222, time: 0.2s, cached, job: job_DjKxQwHb6oc5S2hhrgb4CGobCgUh)<br />\n",
       "    <script src=\"/static/components/requirejs/require.js\"></script>\n",
       "    <script>\n",
       "      require.config({\n",
       "        paths: {\n",
       "          base: '/static/base',\n",
       "          d3: '//cdnjs.cloudflare.com/ajax/libs/d3/3.4.13/d3',\n",
       "          plotly: 'https://cdn.plot.ly/plotly-1.5.1.min.js?noext',\n",
       "          jquery: '//ajax.googleapis.com/ajax/libs/jquery/2.0.0/jquery.min'\n",
       "        },\n",
       "        map: {\n",
       "          '*': {\n",
       "            datalab: 'nbextensions/gcpdatalab'\n",
       "          }\n",
       "        },\n",
       "        shim: {\n",
       "          plotly: {\n",
       "            deps: ['d3', 'jquery'],\n",
       "            exports: 'plotly'\n",
       "          }\n",
       "        }\n",
       "      });\n",
       "\n",
       "      require(['datalab/charting', 'datalab/element!26_154440857032', 'base/js/events',\n",
       "          'datalab/style!/nbextensions/gcpdatalab/charting.css'],\n",
       "        function(charts, dom, events) {\n",
       "          charts.render('gcharts', dom, events, 'paged_table', [], {\"rows\": [{\"c\": [{\"v\": \"HUZU\"}]}, {\"c\": [{\"v\": \"BZLCOIN\"}]}, {\"c\": [{\"v\": \"GoHelpFund\"}]}, {\"c\": [{\"v\": \"MODEL-X-coin\"}]}, {\"c\": [{\"v\": \"Unobtanium\"}]}, {\"c\": [{\"v\": \"Counterparty\"}]}, {\"c\": [{\"v\": \"Litecoin Plus\"}]}, {\"c\": [{\"v\": \"Dreamcoin\"}]}, {\"c\": [{\"v\": \"Solaris\"}]}, {\"c\": [{\"v\": \"Hexx\"}]}, {\"c\": [{\"v\": \"Fantasy Cash\"}]}, {\"c\": [{\"v\": \"Bitcoin 21\"}]}, {\"c\": [{\"v\": \"Eternity\"}]}, {\"c\": [{\"v\": \"iBank\"}]}, {\"c\": [{\"v\": \"Veltor\"}]}, {\"c\": [{\"v\": \"Magnum\"}]}, {\"c\": [{\"v\": \"Argus\"}]}, {\"c\": [{\"v\": \"Altcoin\"}]}, {\"c\": [{\"v\": \"Chronobank\"}]}, {\"c\": [{\"v\": \"ICO OpenLedger\"}]}, {\"c\": [{\"v\": \"Peerplays\"}]}, {\"c\": [{\"v\": \"Denarius\"}]}, {\"c\": [{\"v\": \"SpeedCash\"}]}, {\"c\": [{\"v\": \"Iconic\"}]}, {\"c\": [{\"v\": \"APX\"}]}], \"cols\": [{\"label\": \"name\", \"type\": \"string\", \"id\": \"name\"}]},\n",
       "            {\n",
       "              pageSize: 25,\n",
       "              cssClassNames:  {\n",
       "                tableRow: 'gchart-table-row',\n",
       "                headerRow: 'gchart-table-headerrow',\n",
       "                oddTableRow: 'gchart-table-oddrow',\n",
       "                selectedTableRow: 'gchart-table-selectedrow',\n",
       "                hoverTableRow: 'gchart-table-hoverrow',\n",
       "                tableCell: 'gchart-table-cell',\n",
       "                headerCell: 'gchart-table-headercell',\n",
       "                rowNumberCell: 'gchart-table-rownumcell'\n",
       "              }\n",
       "            },\n",
       "            {source_index: 2, fields: 'name'},\n",
       "            0,\n",
       "            222);\n",
       "        }\n",
       "      );\n",
       "    </script>\n",
       "  "
      ],
      "text/plain": [
       "QueryResultsTable job_DjKxQwHb6oc5S2hhrgb4CGobCgUh"
      ]
     },
     "execution_count": 55,
     "metadata": {},
     "output_type": "execute_result"
    }
   ],
   "source": [
    "available_supply.execute().result()"
   ]
  },
  {
   "cell_type": "markdown",
   "metadata": {},
   "source": [
    "**Which 5 coins have seen the greatest percentage growth in the last week?**"
   ]
  },
  {
   "cell_type": "code",
   "execution_count": 56,
   "metadata": {},
   "outputs": [],
   "source": [
    "%%bq query --name greatest_percentage_growth\n",
    "SELECT name, quote_USD_percent_change_7d\n",
    "FROM `dennis-caserta-project.crypto_dataset.crypto_data`\n",
    "ORDER BY quote_USD_percent_change_7d desc\n",
    "LIMIT 5"
   ]
  },
  {
   "cell_type": "code",
   "execution_count": 57,
   "metadata": {},
   "outputs": [
    {
     "data": {
      "text/html": [
       "\n",
       "    <div class=\"bqtv\" id=\"27_154440857210\"><table><tr><th>name</th><th>quote_USD_percent_change_7d</th></tr><tr><td>TittieCoin</td><td>1346.63</td></tr><tr><td>Archetypal Network</td><td>842.271</td></tr><tr><td>Bastonet</td><td>687.454</td></tr><tr><td>WINCOIN</td><td>338.532</td></tr><tr><td>RoBET</td><td>262.07</td></tr></table></div>\n",
       "    <br />(rows: 5, time: 0.2s, cached, job: job_86FFTH5Z9m4bdfpIjp4jAC9jk3gU)<br />\n",
       "    <script src=\"/static/components/requirejs/require.js\"></script>\n",
       "    <script>\n",
       "      require.config({\n",
       "        paths: {\n",
       "          base: '/static/base',\n",
       "          d3: '//cdnjs.cloudflare.com/ajax/libs/d3/3.4.13/d3',\n",
       "          plotly: 'https://cdn.plot.ly/plotly-1.5.1.min.js?noext',\n",
       "          jquery: '//ajax.googleapis.com/ajax/libs/jquery/2.0.0/jquery.min'\n",
       "        },\n",
       "        map: {\n",
       "          '*': {\n",
       "            datalab: 'nbextensions/gcpdatalab'\n",
       "          }\n",
       "        },\n",
       "        shim: {\n",
       "          plotly: {\n",
       "            deps: ['d3', 'jquery'],\n",
       "            exports: 'plotly'\n",
       "          }\n",
       "        }\n",
       "      });\n",
       "\n",
       "      require(['datalab/charting', 'datalab/element!27_154440857210', 'base/js/events',\n",
       "          'datalab/style!/nbextensions/gcpdatalab/charting.css'],\n",
       "        function(charts, dom, events) {\n",
       "          charts.render('gcharts', dom, events, 'table', [], {\"rows\": [{\"c\": [{\"v\": \"TittieCoin\"}, {\"v\": 1346.63}]}, {\"c\": [{\"v\": \"Archetypal Network\"}, {\"v\": 842.271}]}, {\"c\": [{\"v\": \"Bastonet\"}, {\"v\": 687.454}]}, {\"c\": [{\"v\": \"WINCOIN\"}, {\"v\": 338.532}]}, {\"c\": [{\"v\": \"RoBET\"}, {\"v\": 262.07}]}], \"cols\": [{\"label\": \"name\", \"type\": \"string\", \"id\": \"name\"}, {\"label\": \"quote_USD_percent_change_7d\", \"type\": \"number\", \"id\": \"quote_USD_percent_change_7d\"}]},\n",
       "            {\n",
       "              pageSize: 25,\n",
       "              cssClassNames:  {\n",
       "                tableRow: 'gchart-table-row',\n",
       "                headerRow: 'gchart-table-headerrow',\n",
       "                oddTableRow: 'gchart-table-oddrow',\n",
       "                selectedTableRow: 'gchart-table-selectedrow',\n",
       "                hoverTableRow: 'gchart-table-hoverrow',\n",
       "                tableCell: 'gchart-table-cell',\n",
       "                headerCell: 'gchart-table-headercell',\n",
       "                rowNumberCell: 'gchart-table-rownumcell'\n",
       "              }\n",
       "            },\n",
       "            {source_index: 6, fields: 'name,quote_USD_percent_change_7d'},\n",
       "            0,\n",
       "            5);\n",
       "        }\n",
       "      );\n",
       "    </script>\n",
       "  "
      ],
      "text/plain": [
       "QueryResultsTable job_86FFTH5Z9m4bdfpIjp4jAC9jk3gU"
      ]
     },
     "execution_count": 57,
     "metadata": {},
     "output_type": "execute_result"
    }
   ],
   "source": [
    "greatest_percentage_growth.execute().result()"
   ]
  },
  {
   "cell_type": "markdown",
   "metadata": {},
   "source": [
    "**How many ticker symbols contain the letter \"X\" ?**"
   ]
  },
  {
   "cell_type": "code",
   "execution_count": 58,
   "metadata": {},
   "outputs": [],
   "source": [
    "%%bq query --name letter_x\n",
    "SELECT COUNT(*) as symbol_count\n",
    "FROM `dennis-caserta-project.crypto_dataset.crypto_data`\n",
    "WHERE symbol like '%X%'"
   ]
  },
  {
   "cell_type": "code",
   "execution_count": 59,
   "metadata": {},
   "outputs": [
    {
     "data": {
      "text/html": [
       "\n",
       "    <div class=\"bqtv\" id=\"28_154440857372\"><table><tr><th>symbol_count</th></tr><tr><td>272</td></tr></table></div>\n",
       "    <br />(rows: 1, time: 0.1s, cached, job: job_OdafWefY9iCfiLsuDLMb5R5Ft93x)<br />\n",
       "    <script src=\"/static/components/requirejs/require.js\"></script>\n",
       "    <script>\n",
       "      require.config({\n",
       "        paths: {\n",
       "          base: '/static/base',\n",
       "          d3: '//cdnjs.cloudflare.com/ajax/libs/d3/3.4.13/d3',\n",
       "          plotly: 'https://cdn.plot.ly/plotly-1.5.1.min.js?noext',\n",
       "          jquery: '//ajax.googleapis.com/ajax/libs/jquery/2.0.0/jquery.min'\n",
       "        },\n",
       "        map: {\n",
       "          '*': {\n",
       "            datalab: 'nbextensions/gcpdatalab'\n",
       "          }\n",
       "        },\n",
       "        shim: {\n",
       "          plotly: {\n",
       "            deps: ['d3', 'jquery'],\n",
       "            exports: 'plotly'\n",
       "          }\n",
       "        }\n",
       "      });\n",
       "\n",
       "      require(['datalab/charting', 'datalab/element!28_154440857372', 'base/js/events',\n",
       "          'datalab/style!/nbextensions/gcpdatalab/charting.css'],\n",
       "        function(charts, dom, events) {\n",
       "          charts.render('gcharts', dom, events, 'table', [], {\"rows\": [{\"c\": [{\"v\": 272}]}], \"cols\": [{\"label\": \"symbol_count\", \"type\": \"number\", \"id\": \"symbol_count\"}]},\n",
       "            {\n",
       "              pageSize: 25,\n",
       "              cssClassNames:  {\n",
       "                tableRow: 'gchart-table-row',\n",
       "                headerRow: 'gchart-table-headerrow',\n",
       "                oddTableRow: 'gchart-table-oddrow',\n",
       "                selectedTableRow: 'gchart-table-selectedrow',\n",
       "                hoverTableRow: 'gchart-table-hoverrow',\n",
       "                tableCell: 'gchart-table-cell',\n",
       "                headerCell: 'gchart-table-headercell',\n",
       "                rowNumberCell: 'gchart-table-rownumcell'\n",
       "              }\n",
       "            },\n",
       "            {source_index: 9, fields: 'symbol_count'},\n",
       "            0,\n",
       "            1);\n",
       "        }\n",
       "      );\n",
       "    </script>\n",
       "  "
      ],
      "text/plain": [
       "QueryResultsTable job_OdafWefY9iCfiLsuDLMb5R5Ft93x"
      ]
     },
     "execution_count": 59,
     "metadata": {},
     "output_type": "execute_result"
    }
   ],
   "source": [
    "letter_x.execute().result()"
   ]
  },
  {
   "cell_type": "code",
   "execution_count": 60,
   "metadata": {
    "hiddenCell": true
   },
   "outputs": [
    {
     "data": {
      "text/html": [
       "\n",
       "    <div class=\"bqsv\" id=\"29_154440857398\"></div>\n",
       "    <script src=\"/static/components/requirejs/require.js\"></script>\n",
       "    <script>\n",
       "      require.config({\n",
       "        paths: {\n",
       "          base: '/static/base',\n",
       "        },\n",
       "        map: {\n",
       "          '*': {\n",
       "            datalab: 'nbextensions/gcpdatalab'\n",
       "          }\n",
       "        },\n",
       "      });\n",
       "\n",
       "      require(['datalab/bigquery', 'datalab/element!29_154440857398',\n",
       "          'datalab/style!/nbextensions/gcpdatalab/bigquery.css'],\n",
       "        function(bq, dom) {\n",
       "          bq.renderSchema(dom, [{\"mode\": \"NULLABLE\", \"name\": \"int64_field_0\", \"type\": \"INTEGER\"}, {\"mode\": \"NULLABLE\", \"name\": \"circulating_supply\", \"type\": \"FLOAT\"}, {\"mode\": \"NULLABLE\", \"name\": \"cmc_rank\", \"type\": \"INTEGER\"}, {\"mode\": \"NULLABLE\", \"name\": \"date_added\", \"type\": \"TIMESTAMP\"}, {\"mode\": \"NULLABLE\", \"name\": \"id\", \"type\": \"INTEGER\"}, {\"mode\": \"NULLABLE\", \"name\": \"last_updated\", \"type\": \"TIMESTAMP\"}, {\"mode\": \"NULLABLE\", \"name\": \"max_supply\", \"type\": \"FLOAT\"}, {\"mode\": \"NULLABLE\", \"name\": \"name\", \"type\": \"STRING\"}, {\"mode\": \"NULLABLE\", \"name\": \"num_market_pairs\", \"type\": \"INTEGER\"}, {\"mode\": \"NULLABLE\", \"name\": \"platform\", \"type\": \"STRING\"}, {\"mode\": \"NULLABLE\", \"name\": \"platform_id\", \"type\": \"FLOAT\"}, {\"mode\": \"NULLABLE\", \"name\": \"platform_name\", \"type\": \"STRING\"}, {\"mode\": \"NULLABLE\", \"name\": \"platform_slug\", \"type\": \"STRING\"}, {\"mode\": \"NULLABLE\", \"name\": \"platform_symbol\", \"type\": \"STRING\"}, {\"mode\": \"NULLABLE\", \"name\": \"quote_USD_last_updated\", \"type\": \"TIMESTAMP\"}, {\"mode\": \"NULLABLE\", \"name\": \"quote_USD_market_cap\", \"type\": \"FLOAT\"}, {\"mode\": \"NULLABLE\", \"name\": \"quote_USD_percent_change_1h\", \"type\": \"FLOAT\"}, {\"mode\": \"NULLABLE\", \"name\": \"quote_USD_percent_change_24h\", \"type\": \"FLOAT\"}, {\"mode\": \"NULLABLE\", \"name\": \"quote_USD_percent_change_7d\", \"type\": \"FLOAT\"}, {\"mode\": \"NULLABLE\", \"name\": \"quote_USD_price\", \"type\": \"FLOAT\"}, {\"mode\": \"NULLABLE\", \"name\": \"quote_USD_volume_24h\", \"type\": \"FLOAT\"}, {\"mode\": \"NULLABLE\", \"name\": \"slug\", \"type\": \"STRING\"}, {\"mode\": \"NULLABLE\", \"name\": \"symbol\", \"type\": \"STRING\"}, {\"mode\": \"NULLABLE\", \"name\": \"tags\", \"type\": \"STRING\"}, {\"mode\": \"NULLABLE\", \"name\": \"total_supply\", \"type\": \"FLOAT\"}]);\n",
       "        }\n",
       "      );\n",
       "    </script>\n",
       "    "
      ],
      "text/plain": [
       "<IPython.core.display.HTML object>"
      ]
     },
     "execution_count": 60,
     "metadata": {},
     "output_type": "execute_result"
    }
   ],
   "source": [
    "%%bq tables describe --name \"dennis-caserta-project.crypto_dataset.crypto_data\"\n",
    "table = bq.Table('dennis-caserta-project.crypto_dataset.crypto_data')"
   ]
  }
 ],
 "metadata": {
  "kernelspec": {
   "display_name": "Python 3",
   "language": "python",
   "name": "python3"
  },
  "language_info": {
   "codemirror_mode": {
    "name": "ipython",
    "version": 3
   },
   "file_extension": ".py",
   "mimetype": "text/x-python",
   "name": "python",
   "nbconvert_exporter": "python",
   "pygments_lexer": "ipython3",
   "version": "3.5.6"
  }
 },
 "nbformat": 4,
 "nbformat_minor": 2
}
